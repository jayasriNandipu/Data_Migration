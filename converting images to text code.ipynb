{
 "cells": [
  {
   "cell_type": "code",
   "execution_count": 1,
   "id": "5e296bfb-e9d3-4875-ad98-6a90010a9653",
   "metadata": {},
   "outputs": [
    {
     "name": "stdout",
     "output_type": "stream",
     "text": [
      "Requirement already satisfied: Pillow in c:\\users\\hp\\anaconda3\\lib\\site-packages (10.3.0)\n",
      "Requirement already satisfied: pytesseract in c:\\users\\hp\\anaconda3\\lib\\site-packages (0.3.13)\n",
      "Requirement already satisfied: packaging>=21.3 in c:\\users\\hp\\anaconda3\\lib\\site-packages (from pytesseract) (23.2)\n",
      "Note: you may need to restart the kernel to use updated packages.\n"
     ]
    }
   ],
   "source": [
    "pip install Pillow pytesseract"
   ]
  },
  {
   "cell_type": "code",
   "execution_count": 2,
   "id": "3ee26abf-7195-4340-96eb-85a5bca320b7",
   "metadata": {},
   "outputs": [],
   "source": [
    "from PIL import Image\n",
    "import pytesseract"
   ]
  },
  {
   "cell_type": "code",
   "execution_count": 3,
   "id": "985413c2-f546-4ce4-aafe-26e00fbb3b7b",
   "metadata": {},
   "outputs": [],
   "source": [
    "pytesseract.pytesseract.tesseract_cmd = r'C:\\Program Files\\Tesseract-OCR\\tesseract.exe'  # Update the path as needed"
   ]
  },
  {
   "cell_type": "code",
   "execution_count": 4,
   "id": "2560c69a-de4f-4c62-bb4c-59e180b26a97",
   "metadata": {},
   "outputs": [
    {
     "name": "stdout",
     "output_type": "stream",
     "text": [
      "in SN RT TTL TTL IES LEER NRT IT TTT SS ET\n",
      "\n",
      "x) File Edit Selection View Go Run = € > [\n",
      "\n",
      "= Pivot _datasql © PROCEDURE pivot_pi_data (pi_start_ date! Untitled-1 @ S PROCEDURE pivot pi_data_v1 (pi_start_dat Untitled 2 @\n",
      "1 PROCEDURE pivot_pi_data_v1 (pi_start_date IN DATE,\n",
      "p 2 || Gee Py | pi_end_date IN DATE)\n",
      "3 Is\n",
      "4 vl_function_name VARCHAR2(3@) := *pivot_pi_data_v1';\n",
      "¥9 5 dml_errors EXCEPTION;\n",
      "6 vi_errors NUMBER;\n",
      "S r/ vl_errno NUMBER;\n",
      "x 8 vi_msg VARCHAR2 (4802);\n",
      "9 vl_idx NUMBER;\n",
      "AY fea\n",
      "11 CURSOR cur_pivot_stgl IS I\n",
      "12 WITH pi_data As {(\n",
      "43 SELECT /*+ parallel(stg,4) materialize */\n",
      "14 stg.tagname,\n",
      "15 CASE WHEN stg.value = 'NaN'\n",
      "16 THEN NULL\n",
      "7) ELSE stg.value\n",
      "18 END calc_value, ee erent i\n",
      "19 stg.timestamputc,\n",
      "2e | stg.server_name,\n",
      "2. | td.asset_type\n",
      "22 | FROM gendata_dw_owner.rc_scada_stgi stg,\n",
      "23 | | | gendata_dw_owner.rc_tags_dim td\n",
      "24 WHERE stg.tagname = td.tag_name\n",
      "25 ee) stg.server_name = td.server_name\n",
      "\n",
      "g\n",
      "\n",
      "stg.timestamputc >= pi_start_date\n",
      "stg.timestamputc < pi_end_date))|\n",
      "»node_pi_data AS (\n",
      "\n",
      "SELECT dnl.node_name,\n",
      "\n",
      "; (6) O Restricted Mode @o0Ao0 Wo In\n",
      "\n",
      "g\n",
      "\n",
      "& ©\n",
      "\n"
     ]
    }
   ],
   "source": [
    "from PIL import Image\n",
    "import pytesseract\n",
    "\n",
    "# Load the image from file\n",
    "image_path = r\"C:\\jaya sri\\A_Project_related\\task\\1.jpg\"\n",
    "image1 = Image.open(image_path)\n",
    "\n",
    "# Convert image to text\n",
    "text = pytesseract.image_to_string(image1)\n",
    "\n",
    "print(text)"
   ]
  },
  {
   "cell_type": "code",
   "execution_count": null,
   "id": "2b47af14-a572-4520-a848-7e0a5d2ef334",
   "metadata": {},
   "outputs": [],
   "source": []
  },
  {
   "cell_type": "code",
   "execution_count": null,
   "id": "86f39b88-ee29-4972-9726-fcfbfb9992ab",
   "metadata": {},
   "outputs": [],
   "source": []
  },
  {
   "cell_type": "code",
   "execution_count": null,
   "id": "8f552d05-d0d2-4092-9c8d-af1d4209ec29",
   "metadata": {},
   "outputs": [],
   "source": []
  },
  {
   "cell_type": "code",
   "execution_count": null,
   "id": "d4dd7763-be71-4670-9422-65e6f99923ad",
   "metadata": {},
   "outputs": [],
   "source": []
  }
 ],
 "metadata": {
  "kernelspec": {
   "display_name": "Python 3 (ipykernel)",
   "language": "python",
   "name": "python3"
  },
  "language_info": {
   "codemirror_mode": {
    "name": "ipython",
    "version": 3
   },
   "file_extension": ".py",
   "mimetype": "text/x-python",
   "name": "python",
   "nbconvert_exporter": "python",
   "pygments_lexer": "ipython3",
   "version": "3.12.4"
  }
 },
 "nbformat": 4,
 "nbformat_minor": 5
}
