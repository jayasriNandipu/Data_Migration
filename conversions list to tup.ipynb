{
 "cells": [
  {
   "cell_type": "code",
   "execution_count": null,
   "id": "274dd199",
   "metadata": {},
   "outputs": [],
   "source": [
    "#-----------creating list data---"
   ]
  },
  {
   "cell_type": "code",
   "execution_count": 1,
   "id": "41458670",
   "metadata": {},
   "outputs": [],
   "source": [
    "lst=[1,2,7,8,6,5,4,88,25,2,4,5,3,1]"
   ]
  },
  {
   "cell_type": "code",
   "execution_count": 2,
   "id": "b08985a6",
   "metadata": {},
   "outputs": [
    {
     "data": {
      "text/plain": [
       "[1, 2, 7, 8, 6, 5, 4, 88, 25, 2, 4, 5, 3, 1]"
      ]
     },
     "execution_count": 2,
     "metadata": {},
     "output_type": "execute_result"
    }
   ],
   "source": [
    "lst"
   ]
  },
  {
   "cell_type": "code",
   "execution_count": null,
   "id": "4ba68fad",
   "metadata": {},
   "outputs": [],
   "source": [
    "#------replacing positon 3 with value 23"
   ]
  },
  {
   "cell_type": "code",
   "execution_count": 3,
   "id": "545eee01",
   "metadata": {},
   "outputs": [],
   "source": [
    "lst[3]=23"
   ]
  },
  {
   "cell_type": "code",
   "execution_count": 4,
   "id": "4b51d369",
   "metadata": {},
   "outputs": [
    {
     "data": {
      "text/plain": [
       "[1, 2, 7, 23, 6, 5, 4, 88, 25, 2, 4, 5, 3, 1]"
      ]
     },
     "execution_count": 4,
     "metadata": {},
     "output_type": "execute_result"
    }
   ],
   "source": [
    "lst"
   ]
  },
  {
   "cell_type": "code",
   "execution_count": null,
   "id": "fdac7147",
   "metadata": {},
   "outputs": [],
   "source": [
    "#-----------converting  list to set--------"
   ]
  },
  {
   "cell_type": "code",
   "execution_count": 10,
   "id": "cfe54769",
   "metadata": {},
   "outputs": [],
   "source": [
    "seq_set=set(lst)"
   ]
  },
  {
   "cell_type": "code",
   "execution_count": 11,
   "id": "68b4a1ef",
   "metadata": {},
   "outputs": [
    {
     "data": {
      "text/plain": [
       "{1, 2, 3, 4, 5, 6, 7, 23, 25, 88}"
      ]
     },
     "execution_count": 11,
     "metadata": {},
     "output_type": "execute_result"
    }
   ],
   "source": [
    "seq_set"
   ]
  },
  {
   "cell_type": "code",
   "execution_count": null,
   "id": "dfc47f60",
   "metadata": {},
   "outputs": [],
   "source": [
    "#--------converting list to tuple-----"
   ]
  },
  {
   "cell_type": "code",
   "execution_count": 12,
   "id": "467ad127",
   "metadata": {},
   "outputs": [],
   "source": [
    "lst_tup=tuple(lst)"
   ]
  },
  {
   "cell_type": "code",
   "execution_count": 13,
   "id": "29a33a1e",
   "metadata": {},
   "outputs": [
    {
     "data": {
      "text/plain": [
       "(1, 2, 7, 23, 6, 5, 4, 88, 25, 2, 4, 5, 3, 1)"
      ]
     },
     "execution_count": 13,
     "metadata": {},
     "output_type": "execute_result"
    }
   ],
   "source": [
    "lst_tup"
   ]
  },
  {
   "cell_type": "code",
   "execution_count": null,
   "id": "7c8d9fa8",
   "metadata": {},
   "outputs": [],
   "source": [
    "#---------creating a tuple data----"
   ]
  },
  {
   "cell_type": "code",
   "execution_count": 14,
   "id": "5f836f04",
   "metadata": {},
   "outputs": [],
   "source": [
    "tup=(1, 2, 3, 4, 5, 6, 7, 23, 25, 88)"
   ]
  },
  {
   "cell_type": "code",
   "execution_count": 15,
   "id": "6c30fc6d",
   "metadata": {},
   "outputs": [
    {
     "data": {
      "text/plain": [
       "(1, 2, 3, 4, 5, 6, 7, 23, 25, 88)"
      ]
     },
     "execution_count": 15,
     "metadata": {},
     "output_type": "execute_result"
    }
   ],
   "source": [
    "tup"
   ]
  },
  {
   "cell_type": "code",
   "execution_count": null,
   "id": "5c0107a6",
   "metadata": {},
   "outputs": [],
   "source": [
    "#--------------converting tuple to list----"
   ]
  },
  {
   "cell_type": "code",
   "execution_count": 16,
   "id": "6b3f9f3a",
   "metadata": {},
   "outputs": [],
   "source": [
    "tup_list=list(tup)"
   ]
  },
  {
   "cell_type": "code",
   "execution_count": 17,
   "id": "0b5d8e88",
   "metadata": {},
   "outputs": [
    {
     "data": {
      "text/plain": [
       "[1, 2, 3, 4, 5, 6, 7, 23, 25, 88]"
      ]
     },
     "execution_count": 17,
     "metadata": {},
     "output_type": "execute_result"
    }
   ],
   "source": [
    "tup_list"
   ]
  },
  {
   "cell_type": "code",
   "execution_count": null,
   "id": "00a042b3",
   "metadata": {},
   "outputs": [],
   "source": [
    "#--------------converting tuple to set----"
   ]
  },
  {
   "cell_type": "code",
   "execution_count": 18,
   "id": "b393ce4a",
   "metadata": {},
   "outputs": [],
   "source": [
    "tup_set=set(tup_list)"
   ]
  },
  {
   "cell_type": "code",
   "execution_count": 19,
   "id": "33cf4f48",
   "metadata": {},
   "outputs": [
    {
     "data": {
      "text/plain": [
       "{1, 2, 3, 4, 5, 6, 7, 23, 25, 88}"
      ]
     },
     "execution_count": 19,
     "metadata": {},
     "output_type": "execute_result"
    }
   ],
   "source": [
    "tup_set"
   ]
  },
  {
   "cell_type": "code",
   "execution_count": null,
   "id": "4309fca0",
   "metadata": {},
   "outputs": [],
   "source": []
  },
  {
   "cell_type": "code",
   "execution_count": null,
   "id": "e082dd51",
   "metadata": {},
   "outputs": [],
   "source": [
    "#------creating a set---------"
   ]
  },
  {
   "cell_type": "code",
   "execution_count": 20,
   "id": "d7284662",
   "metadata": {},
   "outputs": [],
   "source": [
    "set={\"name\":['param','athma'],\"qualification\":['degree','btech']}"
   ]
  },
  {
   "cell_type": "code",
   "execution_count": 21,
   "id": "d4595380",
   "metadata": {},
   "outputs": [
    {
     "data": {
      "text/plain": [
       "{'name': ['param', 'athma'], 'qualification': ['degree', 'btech']}"
      ]
     },
     "execution_count": 21,
     "metadata": {},
     "output_type": "execute_result"
    }
   ],
   "source": [
    "set"
   ]
  },
  {
   "cell_type": "code",
   "execution_count": null,
   "id": "e2d216f0",
   "metadata": {},
   "outputs": [],
   "source": []
  },
  {
   "cell_type": "code",
   "execution_count": null,
   "id": "9186bf34",
   "metadata": {},
   "outputs": [],
   "source": []
  },
  {
   "cell_type": "code",
   "execution_count": null,
   "id": "19a7e30c",
   "metadata": {},
   "outputs": [],
   "source": []
  },
  {
   "cell_type": "code",
   "execution_count": null,
   "id": "f803da64",
   "metadata": {},
   "outputs": [],
   "source": []
  }
 ],
 "metadata": {
  "kernelspec": {
   "display_name": "Python 3 (ipykernel)",
   "language": "python",
   "name": "python3"
  },
  "language_info": {
   "codemirror_mode": {
    "name": "ipython",
    "version": 3
   },
   "file_extension": ".py",
   "mimetype": "text/x-python",
   "name": "python",
   "nbconvert_exporter": "python",
   "pygments_lexer": "ipython3",
   "version": "3.10.9"
  }
 },
 "nbformat": 4,
 "nbformat_minor": 5
}
