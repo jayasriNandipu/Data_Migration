{
 "cells": [
  {
   "cell_type": "code",
   "execution_count": 6,
   "id": "74525350",
   "metadata": {},
   "outputs": [
    {
     "name": "stderr",
     "output_type": "stream",
     "text": [
      "C:\\Users\\hp\\AppData\\Local\\Temp\\ipykernel_2368\\940583247.py:14: UserWarning: pandas only supports SQLAlchemy connectable (engine/connection) or database string URI or sqlite3 DBAPI2 connection. Other DBAPI2 objects are not tested. Please consider using SQLAlchemy.\n",
      "  df=pd.read_sql(sql = sqlQuery, con = connection)\n"
     ]
    }
   ],
   "source": [
    "import pyodbc\n",
    "import pandas as pd\n",
    "import os\n",
    "from datetime import datetime\n",
    "#from plyer import notification\n",
    "#create sql connection\n",
    "# conncetion=pyodbc.connect()\n",
    "#print(pyodbc.drivers())\n",
    "connection = pyodbc.connect(driver = '{ODBC Driver 17 for SQL Server}',host ='LAPTOP-2JM72B95\\PARAMATMA_SYS4',\n",
    "             database = \"master\",trusted_connection = \"yes\")\n",
    "# sql command to read the data\n",
    "sqlQuery =\"select * from dbo.college\"\n",
    "# getting the data from sql into pandas dataframe\n",
    "df=pd.read_sql(sql = sqlQuery, con = connection)\n",
    "\n",
    "#export the data on the desktop\n",
    "df.to_csv(os.environ[\"userprofile\"] + \"\\\\Desktop\\\\jayasri\\\\\" + \"sql_dbo.college_\" + datetime.now().strftime(\"%d-%b-%y %H%M%S\") + \".csv\")\n",
    "#display notification for user\n",
    "#notification.notify(title = \"Report Status!!!\")\n",
    "messeage = f\"Sales data has been successfully saved into Excel.\\\n",
    "         \\n Total Rows : {df.shape[0]}\\nTotal columns: {df.shape[1]}\",\n",
    "timeout = 10"
   ]
  },
  {
   "cell_type": "code",
   "execution_count": 3,
   "id": "931a1c99",
   "metadata": {},
   "outputs": [
    {
     "name": "stdout",
     "output_type": "stream",
     "text": [
      "['SQL Server', 'Microsoft Access Driver (*.mdb, *.accdb)', 'Microsoft Excel Driver (*.xls, *.xlsx, *.xlsm, *.xlsb)', 'Microsoft Access Text Driver (*.txt, *.csv)', 'SQL Server Native Client RDA 11.0', 'ODBC Driver 17 for SQL Server']\n"
     ]
    }
   ],
   "source": [
    "import pyodbc\n",
    "print(pyodbc.drivers())"
   ]
  },
  {
   "cell_type": "code",
   "execution_count": null,
   "id": "bde3d799",
   "metadata": {},
   "outputs": [],
   "source": [
    "select * from sri.clothes"
   ]
  },
  {
   "cell_type": "code",
   "execution_count": 7,
   "id": "f44fbd53",
   "metadata": {},
   "outputs": [
    {
     "name": "stderr",
     "output_type": "stream",
     "text": [
      "C:\\Users\\hp\\AppData\\Local\\Temp\\ipykernel_2368\\1564029200.py:14: UserWarning: pandas only supports SQLAlchemy connectable (engine/connection) or database string URI or sqlite3 DBAPI2 connection. Other DBAPI2 objects are not tested. Please consider using SQLAlchemy.\n",
      "  df=pd.read_sql(sql = sqlQuery, con = connection)\n"
     ]
    }
   ],
   "source": [
    "import pyodbc\n",
    "import pandas as pd\n",
    "import os\n",
    "from datetime import datetime\n",
    "#from plyer import notification\n",
    "#create sql connection\n",
    "# conncetion=pyodbc.connect()\n",
    "#print(pyodbc.drivers())\n",
    "connection = pyodbc.connect(driver = '{ODBC Driver 17 for SQL Server}',host ='LAPTOP-2JM72B95\\PARAMATMA_SYS4',\n",
    "             database = \"master\",trusted_connection = \"yes\")\n",
    "# sql command to read the data\n",
    "sqlQuery =\"select * from sri.clothes\"\n",
    "# getting the data from sql into pandas dataframe\n",
    "df=pd.read_sql(sql = sqlQuery, con = connection)\n",
    "\n",
    "#export the data on the desktop\n",
    "df.to_csv(os.environ[\"userprofile\"] + \"\\\\Desktop\\\\jayasri\\\\\" + \"sql_sri.clothes_\" + datetime.now().strftime(\"%d-%b-%y %H%M%S\") + \".csv\")\n",
    "#display notification for user\n",
    "#notification.notify(title = \"Report Status!!!\")\n",
    "messeage = f\"Sales data has been successfully saved into Excel.\\\n",
    "         \\n Total Rows : {df.shape[0]}\\nTotal columns: {df.shape[1]}\",\n",
    "timeout = 10"
   ]
  }
 ],
 "metadata": {
  "kernelspec": {
   "display_name": "Python 3 (ipykernel)",
   "language": "python",
   "name": "python3"
  },
  "language_info": {
   "codemirror_mode": {
    "name": "ipython",
    "version": 3
   },
   "file_extension": ".py",
   "mimetype": "text/x-python",
   "name": "python",
   "nbconvert_exporter": "python",
   "pygments_lexer": "ipython3",
   "version": "3.10.9"
  }
 },
 "nbformat": 4,
 "nbformat_minor": 5
}
