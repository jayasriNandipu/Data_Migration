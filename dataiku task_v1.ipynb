{
 "cells": [
  {
   "cell_type": "code",
   "execution_count": 27,
   "id": "421ace68-4b0a-496c-9324-3ff18944c34a",
   "metadata": {},
   "outputs": [
    {
     "name": "stdout",
     "output_type": "stream",
     "text": [
      "   S.no        product location   cost  discount DateofPurchase  Year  \\\n",
      "0     1  Electronics_1    Hyd_1  15000       0.1     2025-01-12  2025   \n",
      "1     2  Electronics_2    Hyd_1  12000       0.1     2025-01-13  2025   \n",
      "2     3  Electronics_3    Hyd_1  13000       0.1     2025-01-14  2025   \n",
      "3     4  Electronics_4    Hyd_1  14000       0.1     2025-01-15  2025   \n",
      "4     5  Electronics_5    Hyd_1  16000       0.1     2025-01-16  2025   \n",
      "\n",
      "     Month        Day    amount  \n",
      "0  January     Sunday  RS 15000  \n",
      "1  January     Monday  RS 12000  \n",
      "2  January    Tuesday  RS 13000  \n",
      "3  January  Wednesday  RS 14000  \n",
      "4  January   Thursday  RS 16000  \n"
     ]
    },
    {
     "name": "stderr",
     "output_type": "stream",
     "text": [
      "<>:37: SyntaxWarning: invalid escape sequence '\\j'\n",
      "<>:37: SyntaxWarning: invalid escape sequence '\\j'\n",
      "C:\\Users\\hp\\AppData\\Local\\Temp\\ipykernel_17532\\681236023.py:37: SyntaxWarning: invalid escape sequence '\\j'\n",
      "  df.to_excel(\"D:\\jaya sri\\output_v1.xlsx\", index=False)\n"
     ]
    }
   ],
   "source": [
    "import pandas as pd\n",
    "\n",
    "# Import the Excel sheet into a DataFrame\n",
    "# Replace 'your_input_file.xlsx' with the path to your Excel file\n",
    "df = pd.read_excel(r\"D:\\jaya sri\\dataiku_task.xlsx\",sheet_name=\"Input\")\n",
    "\n",
    "\n",
    "# Add a new column with the numeric representation of the day\n",
    "# df['Day'] = df['DateofPurchase'].map(day_map)\n",
    "\n",
    "# Extract the month and year from the 'Date' column\n",
    "df['Year'] = df['DateofPurchase'].dt.year\n",
    "df['Month'] = df['DateofPurchase'].dt.month\n",
    "\n",
    "\n",
    "#----------------display month name\n",
    "df['Month'] = df['DateofPurchase'].dt.strftime('%B')\n",
    "\n",
    "\n",
    "# Extract the day of the week\n",
    "df['Day'] = df['DateofPurchase'].dt.strftime('%A')\n",
    "\n",
    "\n",
    "# Add \"RS\" to the 'Amount' column\n",
    "df['amount'] = 'RS ' + df['cost'].astype(str)\n",
    "\n",
    "# print(\"Excel file has been processed and saved as 'processed_output.xlsx'!\")\n",
    "print(df.head())\n",
    "\n",
    "\n",
    "# Save the updated DataFrame to a new Excel file\n",
    "df.to_excel(\"D:\\jaya sri\\output_v1.xlsx\", index=False)\n"
   ]
  },
  {
   "cell_type": "code",
   "execution_count": null,
   "id": "2829f002-1dcf-4ed1-b3f3-c8900c2f7401",
   "metadata": {},
   "outputs": [],
   "source": []
  },
  {
   "cell_type": "code",
   "execution_count": null,
   "id": "13f45136-b51a-448f-b152-4d6ccdf09e93",
   "metadata": {},
   "outputs": [],
   "source": []
  },
  {
   "cell_type": "code",
   "execution_count": null,
   "id": "e59996a5-0bf2-461c-a47e-47257a46038e",
   "metadata": {},
   "outputs": [],
   "source": []
  },
  {
   "cell_type": "code",
   "execution_count": null,
   "id": "9887a7f9-ce96-42ed-967a-4e10d397181e",
   "metadata": {},
   "outputs": [],
   "source": []
  },
  {
   "cell_type": "code",
   "execution_count": null,
   "id": "65c79cd1-0775-4e35-a78e-a0902aafd787",
   "metadata": {},
   "outputs": [],
   "source": []
  }
 ],
 "metadata": {
  "kernelspec": {
   "display_name": "Python 3 (ipykernel)",
   "language": "python",
   "name": "python3"
  },
  "language_info": {
   "codemirror_mode": {
    "name": "ipython",
    "version": 3
   },
   "file_extension": ".py",
   "mimetype": "text/x-python",
   "name": "python",
   "nbconvert_exporter": "python",
   "pygments_lexer": "ipython3",
   "version": "3.12.4"
  }
 },
 "nbformat": 4,
 "nbformat_minor": 5
}
