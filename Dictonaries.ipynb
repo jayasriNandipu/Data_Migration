{
 "cells": [
  {
   "cell_type": "code",
   "execution_count": 1,
   "id": "35d3fe9a-f137-4d1e-9d72-e78cfbd001fc",
   "metadata": {},
   "outputs": [],
   "source": [
    "import pandas as pd\n",
    "dict1={\"Name\":[\"nasheena\",\"Prasanna\",\"Santhosh\",\"Parvin\"],\"age\":[15,25,18,26],\"Qualification\":[\"Degree\",\"Btch\",\"Inter\",\"10th\"]}"
   ]
  },
  {
   "cell_type": "code",
   "execution_count": 2,
   "id": "45c0f463-470a-4c45-afb8-399114a4bed3",
   "metadata": {},
   "outputs": [
    {
     "data": {
      "text/html": [
       "<div>\n",
       "<style scoped>\n",
       "    .dataframe tbody tr th:only-of-type {\n",
       "        vertical-align: middle;\n",
       "    }\n",
       "\n",
       "    .dataframe tbody tr th {\n",
       "        vertical-align: top;\n",
       "    }\n",
       "\n",
       "    .dataframe thead th {\n",
       "        text-align: right;\n",
       "    }\n",
       "</style>\n",
       "<table border=\"1\" class=\"dataframe\">\n",
       "  <thead>\n",
       "    <tr style=\"text-align: right;\">\n",
       "      <th></th>\n",
       "      <th>Name</th>\n",
       "      <th>age</th>\n",
       "      <th>Qualification</th>\n",
       "    </tr>\n",
       "  </thead>\n",
       "  <tbody>\n",
       "    <tr>\n",
       "      <th>0</th>\n",
       "      <td>nasheena</td>\n",
       "      <td>15</td>\n",
       "      <td>Degree</td>\n",
       "    </tr>\n",
       "    <tr>\n",
       "      <th>1</th>\n",
       "      <td>Prasanna</td>\n",
       "      <td>25</td>\n",
       "      <td>Btch</td>\n",
       "    </tr>\n",
       "    <tr>\n",
       "      <th>2</th>\n",
       "      <td>Santhosh</td>\n",
       "      <td>18</td>\n",
       "      <td>Inter</td>\n",
       "    </tr>\n",
       "    <tr>\n",
       "      <th>3</th>\n",
       "      <td>Parvin</td>\n",
       "      <td>26</td>\n",
       "      <td>10th</td>\n",
       "    </tr>\n",
       "  </tbody>\n",
       "</table>\n",
       "</div>"
      ],
      "text/plain": [
       "       Name  age Qualification\n",
       "0  nasheena   15        Degree\n",
       "1  Prasanna   25          Btch\n",
       "2  Santhosh   18         Inter\n",
       "3    Parvin   26          10th"
      ]
     },
     "execution_count": 2,
     "metadata": {},
     "output_type": "execute_result"
    }
   ],
   "source": [
    "df=pd.DataFrame(dict1)\n",
    "df"
   ]
  },
  {
   "cell_type": "code",
   "execution_count": 3,
   "id": "d7ed1738-d0eb-4707-80c4-62211c9b0a21",
   "metadata": {},
   "outputs": [],
   "source": [
    "dict2={\"Name\":[\"nasheena\",\"Prasanna\",\"Santhosh\",\"Parvin\"],\"Localtion\":[\"Patanpeta\",\"Mtm\",\"Viz\",\"pmr\"]}"
   ]
  },
  {
   "cell_type": "code",
   "execution_count": 4,
   "id": "04f017ed-f248-485d-a0f1-19d325f4ac16",
   "metadata": {},
   "outputs": [
    {
     "data": {
      "text/html": [
       "<div>\n",
       "<style scoped>\n",
       "    .dataframe tbody tr th:only-of-type {\n",
       "        vertical-align: middle;\n",
       "    }\n",
       "\n",
       "    .dataframe tbody tr th {\n",
       "        vertical-align: top;\n",
       "    }\n",
       "\n",
       "    .dataframe thead th {\n",
       "        text-align: right;\n",
       "    }\n",
       "</style>\n",
       "<table border=\"1\" class=\"dataframe\">\n",
       "  <thead>\n",
       "    <tr style=\"text-align: right;\">\n",
       "      <th></th>\n",
       "      <th>Name</th>\n",
       "      <th>Localtion</th>\n",
       "    </tr>\n",
       "  </thead>\n",
       "  <tbody>\n",
       "    <tr>\n",
       "      <th>0</th>\n",
       "      <td>nasheena</td>\n",
       "      <td>Patanpeta</td>\n",
       "    </tr>\n",
       "    <tr>\n",
       "      <th>1</th>\n",
       "      <td>Prasanna</td>\n",
       "      <td>Mtm</td>\n",
       "    </tr>\n",
       "    <tr>\n",
       "      <th>2</th>\n",
       "      <td>Santhosh</td>\n",
       "      <td>Viz</td>\n",
       "    </tr>\n",
       "    <tr>\n",
       "      <th>3</th>\n",
       "      <td>Parvin</td>\n",
       "      <td>pmr</td>\n",
       "    </tr>\n",
       "  </tbody>\n",
       "</table>\n",
       "</div>"
      ],
      "text/plain": [
       "       Name  Localtion\n",
       "0  nasheena  Patanpeta\n",
       "1  Prasanna        Mtm\n",
       "2  Santhosh        Viz\n",
       "3    Parvin        pmr"
      ]
     },
     "execution_count": 4,
     "metadata": {},
     "output_type": "execute_result"
    }
   ],
   "source": [
    "df1=pd.DataFrame(dict2)\n",
    "df1"
   ]
  },
  {
   "cell_type": "code",
   "execution_count": 5,
   "id": "6a656ba5-2479-430b-821e-a181213f5994",
   "metadata": {},
   "outputs": [],
   "source": [
    "# ******************************append data frames ************************"
   ]
  },
  {
   "cell_type": "code",
   "execution_count": 6,
   "id": "b20eb37f-e73a-41ca-8539-fb1b3c4297cc",
   "metadata": {},
   "outputs": [
    {
     "data": {
      "text/html": [
       "<div>\n",
       "<style scoped>\n",
       "    .dataframe tbody tr th:only-of-type {\n",
       "        vertical-align: middle;\n",
       "    }\n",
       "\n",
       "    .dataframe tbody tr th {\n",
       "        vertical-align: top;\n",
       "    }\n",
       "\n",
       "    .dataframe thead th {\n",
       "        text-align: right;\n",
       "    }\n",
       "</style>\n",
       "<table border=\"1\" class=\"dataframe\">\n",
       "  <thead>\n",
       "    <tr style=\"text-align: right;\">\n",
       "      <th></th>\n",
       "      <th>Name</th>\n",
       "      <th>age</th>\n",
       "      <th>Qualification</th>\n",
       "      <th>Localtion</th>\n",
       "    </tr>\n",
       "  </thead>\n",
       "  <tbody>\n",
       "    <tr>\n",
       "      <th>0</th>\n",
       "      <td>nasheena</td>\n",
       "      <td>15.0</td>\n",
       "      <td>Degree</td>\n",
       "      <td>NaN</td>\n",
       "    </tr>\n",
       "    <tr>\n",
       "      <th>1</th>\n",
       "      <td>Prasanna</td>\n",
       "      <td>25.0</td>\n",
       "      <td>Btch</td>\n",
       "      <td>NaN</td>\n",
       "    </tr>\n",
       "    <tr>\n",
       "      <th>2</th>\n",
       "      <td>Santhosh</td>\n",
       "      <td>18.0</td>\n",
       "      <td>Inter</td>\n",
       "      <td>NaN</td>\n",
       "    </tr>\n",
       "    <tr>\n",
       "      <th>3</th>\n",
       "      <td>Parvin</td>\n",
       "      <td>26.0</td>\n",
       "      <td>10th</td>\n",
       "      <td>NaN</td>\n",
       "    </tr>\n",
       "    <tr>\n",
       "      <th>0</th>\n",
       "      <td>nasheena</td>\n",
       "      <td>NaN</td>\n",
       "      <td>NaN</td>\n",
       "      <td>Patanpeta</td>\n",
       "    </tr>\n",
       "    <tr>\n",
       "      <th>1</th>\n",
       "      <td>Prasanna</td>\n",
       "      <td>NaN</td>\n",
       "      <td>NaN</td>\n",
       "      <td>Mtm</td>\n",
       "    </tr>\n",
       "    <tr>\n",
       "      <th>2</th>\n",
       "      <td>Santhosh</td>\n",
       "      <td>NaN</td>\n",
       "      <td>NaN</td>\n",
       "      <td>Viz</td>\n",
       "    </tr>\n",
       "    <tr>\n",
       "      <th>3</th>\n",
       "      <td>Parvin</td>\n",
       "      <td>NaN</td>\n",
       "      <td>NaN</td>\n",
       "      <td>pmr</td>\n",
       "    </tr>\n",
       "  </tbody>\n",
       "</table>\n",
       "</div>"
      ],
      "text/plain": [
       "       Name   age Qualification  Localtion\n",
       "0  nasheena  15.0        Degree        NaN\n",
       "1  Prasanna  25.0          Btch        NaN\n",
       "2  Santhosh  18.0         Inter        NaN\n",
       "3    Parvin  26.0          10th        NaN\n",
       "0  nasheena   NaN           NaN  Patanpeta\n",
       "1  Prasanna   NaN           NaN        Mtm\n",
       "2  Santhosh   NaN           NaN        Viz\n",
       "3    Parvin   NaN           NaN        pmr"
      ]
     },
     "execution_count": 6,
     "metadata": {},
     "output_type": "execute_result"
    }
   ],
   "source": [
    "pd.concat([df,df1],axis=0)"
   ]
  },
  {
   "cell_type": "code",
   "execution_count": 7,
   "id": "f4f81604-6e81-4fb8-8b57-8abc458a2cbb",
   "metadata": {},
   "outputs": [],
   "source": [
    "\n",
    "#                            ***********append dictonaries********method 2**********"
   ]
  },
  {
   "cell_type": "code",
   "execution_count": 8,
   "id": "06de1ba3-d5ee-45ee-8547-4890890a966a",
   "metadata": {},
   "outputs": [
    {
     "data": {
      "text/plain": [
       "{'Name': ['nasheena', 'Prasanna', 'Santhosh', 'Parvin'],\n",
       " 'age': [15, 25, 18, 26],\n",
       " 'Qualification': ['Degree', 'Btch', 'Inter', '10th'],\n",
       " 'Localtion': ['Patanpeta', 'Mtm', 'Viz', 'pmr']}"
      ]
     },
     "execution_count": 8,
     "metadata": {},
     "output_type": "execute_result"
    }
   ],
   "source": [
    "# Using ** (Unpacking Operator) in Python 3.5+\n",
    "append={**dict1, **dict2}\n",
    "append"
   ]
  },
  {
   "cell_type": "code",
   "execution_count": 9,
   "id": "240d643a-b334-4212-b903-24eacd254f18",
   "metadata": {},
   "outputs": [],
   "source": [
    "\n",
    "#                            ***********append dictonaries********method 3**********"
   ]
  },
  {
   "cell_type": "code",
   "execution_count": 10,
   "id": "573b33bf-5117-4e1c-8fa5-dda6585d6d2b",
   "metadata": {},
   "outputs": [
    {
     "data": {
      "text/plain": [
       "{'Name': ['nasheena', 'Prasanna', 'Santhosh', 'Parvin'],\n",
       " 'age': [15, 25, 18, 26],\n",
       " 'Qualification': ['Degree', 'Btch', 'Inter', '10th'],\n",
       " 'Localtion': ['Patanpeta', 'Mtm', 'Viz', 'pmr']}"
      ]
     },
     "execution_count": 10,
     "metadata": {},
     "output_type": "execute_result"
    }
   ],
   "source": [
    " # Using | (Union Operator) in Python 3.9+\n",
    "ap1=dict1 | dict2\n",
    "ap1"
   ]
  },
  {
   "cell_type": "code",
   "execution_count": null,
   "id": "fae13ba0-958f-4a81-80cf-a94318231754",
   "metadata": {},
   "outputs": [],
   "source": []
  },
  {
   "cell_type": "code",
   "execution_count": 11,
   "id": "96fe08db-5b48-4f69-8ed3-5cc6a5e527f5",
   "metadata": {},
   "outputs": [],
   "source": [
    "# *********************************update*********************************"
   ]
  },
  {
   "cell_type": "code",
   "execution_count": 12,
   "id": "71cfae94-6853-4771-b488-3e6228d7b859",
   "metadata": {},
   "outputs": [
    {
     "data": {
      "text/plain": [
       "{'Name': ['nasheena', 'Prasanna', 'Santhosh', 'Parvin'],\n",
       " 'age': [15, 25, 18, 26],\n",
       " 'Qualification': ['Degree', 'Btch', 'Inter', '10th']}"
      ]
     },
     "execution_count": 12,
     "metadata": {},
     "output_type": "execute_result"
    }
   ],
   "source": [
    "dict1"
   ]
  },
  {
   "cell_type": "code",
   "execution_count": 13,
   "id": "ff9e68be-4a13-4e58-b3a8-a268a3addfc1",
   "metadata": {},
   "outputs": [
    {
     "name": "stdout",
     "output_type": "stream",
     "text": [
      "{'Name': ['nasheena', 'Prasanna', 'Santhosh', 'Parvin'], 'age': [18, 31, 36, 90], 'Qualification': ['Degree', 'Btch', 'Inter', '10th']}\n"
     ]
    }
   ],
   "source": [
    "import pandas as pd\n",
    "\n",
    "# Update the 'age' column\n",
    "dict1[\"age\"] = [18, 31, 36, 90]\n",
    "\n",
    "print(dict1)\n"
   ]
  },
  {
   "cell_type": "code",
   "execution_count": null,
   "id": "a9c494be-d4b8-4361-8a1d-ec10f49f3ecd",
   "metadata": {},
   "outputs": [],
   "source": []
  },
  {
   "cell_type": "code",
   "execution_count": 14,
   "id": "295d1cc6-a8ca-4463-820a-0f84248d0d5c",
   "metadata": {},
   "outputs": [
    {
     "data": {
      "text/html": [
       "<div>\n",
       "<style scoped>\n",
       "    .dataframe tbody tr th:only-of-type {\n",
       "        vertical-align: middle;\n",
       "    }\n",
       "\n",
       "    .dataframe tbody tr th {\n",
       "        vertical-align: top;\n",
       "    }\n",
       "\n",
       "    .dataframe thead th {\n",
       "        text-align: right;\n",
       "    }\n",
       "</style>\n",
       "<table border=\"1\" class=\"dataframe\">\n",
       "  <thead>\n",
       "    <tr style=\"text-align: right;\">\n",
       "      <th></th>\n",
       "      <th>Name</th>\n",
       "      <th>age</th>\n",
       "      <th>Qualification</th>\n",
       "    </tr>\n",
       "  </thead>\n",
       "  <tbody>\n",
       "    <tr>\n",
       "      <th>0</th>\n",
       "      <td>nasheena</td>\n",
       "      <td>15</td>\n",
       "      <td>Degree</td>\n",
       "    </tr>\n",
       "    <tr>\n",
       "      <th>1</th>\n",
       "      <td>Prasanna</td>\n",
       "      <td>25</td>\n",
       "      <td>Btch</td>\n",
       "    </tr>\n",
       "    <tr>\n",
       "      <th>2</th>\n",
       "      <td>Santhosh</td>\n",
       "      <td>18</td>\n",
       "      <td>Inter</td>\n",
       "    </tr>\n",
       "    <tr>\n",
       "      <th>3</th>\n",
       "      <td>Parvin</td>\n",
       "      <td>26</td>\n",
       "      <td>10th</td>\n",
       "    </tr>\n",
       "  </tbody>\n",
       "</table>\n",
       "</div>"
      ],
      "text/plain": [
       "       Name  age Qualification\n",
       "0  nasheena   15        Degree\n",
       "1  Prasanna   25          Btch\n",
       "2  Santhosh   18         Inter\n",
       "3    Parvin   26          10th"
      ]
     },
     "execution_count": 14,
     "metadata": {},
     "output_type": "execute_result"
    }
   ],
   "source": [
    "df"
   ]
  },
  {
   "cell_type": "code",
   "execution_count": 15,
   "id": "6d70bf3e-a08b-423f-b07f-15a11b705c59",
   "metadata": {},
   "outputs": [
    {
     "data": {
      "text/html": [
       "<div>\n",
       "<style scoped>\n",
       "    .dataframe tbody tr th:only-of-type {\n",
       "        vertical-align: middle;\n",
       "    }\n",
       "\n",
       "    .dataframe tbody tr th {\n",
       "        vertical-align: top;\n",
       "    }\n",
       "\n",
       "    .dataframe thead th {\n",
       "        text-align: right;\n",
       "    }\n",
       "</style>\n",
       "<table border=\"1\" class=\"dataframe\">\n",
       "  <thead>\n",
       "    <tr style=\"text-align: right;\">\n",
       "      <th></th>\n",
       "      <th>Name</th>\n",
       "      <th>age</th>\n",
       "      <th>Qualification</th>\n",
       "    </tr>\n",
       "  </thead>\n",
       "  <tbody>\n",
       "    <tr>\n",
       "      <th>0</th>\n",
       "      <td>nasheena</td>\n",
       "      <td>15</td>\n",
       "      <td>Degree</td>\n",
       "    </tr>\n",
       "    <tr>\n",
       "      <th>1</th>\n",
       "      <td>Prasanna</td>\n",
       "      <td>25</td>\n",
       "      <td>Btch</td>\n",
       "    </tr>\n",
       "    <tr>\n",
       "      <th>2</th>\n",
       "      <td>Santhosh</td>\n",
       "      <td>18</td>\n",
       "      <td>Inter</td>\n",
       "    </tr>\n",
       "    <tr>\n",
       "      <th>3</th>\n",
       "      <td>Parvin</td>\n",
       "      <td>26</td>\n",
       "      <td>10th</td>\n",
       "    </tr>\n",
       "  </tbody>\n",
       "</table>\n",
       "</div>"
      ],
      "text/plain": [
       "       Name  age Qualification\n",
       "0  nasheena   15        Degree\n",
       "1  Prasanna   25          Btch\n",
       "2  Santhosh   18         Inter\n",
       "3    Parvin   26          10th"
      ]
     },
     "execution_count": 15,
     "metadata": {},
     "output_type": "execute_result"
    }
   ],
   "source": [
    "# # Update 'age' where 'name' is 'Alice'\n",
    "# df.loc[df[\"name\"] == \"Alice\", \"age\"] = 27\n",
    "\n",
    "df.loc[df[\"Name\"] == \"Jayasri\",\"age\"]= 15\n",
    "df"
   ]
  },
  {
   "cell_type": "code",
   "execution_count": 16,
   "id": "cc16e7bb-3714-4496-8e9d-0327b30219ba",
   "metadata": {},
   "outputs": [],
   "source": [
    "# ------------------Adding or Updating Multiple Columns"
   ]
  },
  {
   "cell_type": "code",
   "execution_count": 17,
   "id": "eb70045c-b43b-4783-aeb6-d6fae68dc373",
   "metadata": {},
   "outputs": [
    {
     "name": "stdout",
     "output_type": "stream",
     "text": [
      "       Name  age Qualification           city\n",
      "0  nasheena   15        Degree       New York\n",
      "1  Prasanna   25          Btch  San Francisco\n",
      "2  Santhosh   18         Inter    Los Angeles\n",
      "3    Parvin   26          10th          india\n"
     ]
    }
   ],
   "source": [
    "# Adding a new column 'city'\n",
    "df[\"city\"] = [\"New York\", \"San Francisco\", \"Los Angeles\",\"india\"]\n",
    "\n",
    "print(df)\n"
   ]
  },
  {
   "cell_type": "code",
   "execution_count": 18,
   "id": "c8d8c06d-fe45-4e70-8280-96837cdbb4a7",
   "metadata": {},
   "outputs": [],
   "source": [
    "# ---------------------4. Updating Values Using apply() Function"
   ]
  },
  {
   "cell_type": "code",
   "execution_count": 19,
   "id": "a30e3a58-8733-41d4-bfdc-fb90cd529f6d",
   "metadata": {},
   "outputs": [
    {
     "name": "stdout",
     "output_type": "stream",
     "text": [
      "       Name  age Qualification           city\n",
      "0  nasheena   16        Degree       New York\n",
      "1  Prasanna   26          Btch  San Francisco\n",
      "2  Santhosh   19         Inter    Los Angeles\n",
      "3    Parvin   27          10th          india\n"
     ]
    }
   ],
   "source": [
    "# Increase the 'age' by 1 using apply\n",
    "df[\"age\"] = df[\"age\"].apply(lambda x: x + 1)\n",
    "\n",
    "print(df)\n"
   ]
  },
  {
   "cell_type": "code",
   "execution_count": 20,
   "id": "a6b10378-2df9-4b43-8e10-ed2e39c67894",
   "metadata": {},
   "outputs": [
    {
     "data": {
      "text/html": [
       "<div>\n",
       "<style scoped>\n",
       "    .dataframe tbody tr th:only-of-type {\n",
       "        vertical-align: middle;\n",
       "    }\n",
       "\n",
       "    .dataframe tbody tr th {\n",
       "        vertical-align: top;\n",
       "    }\n",
       "\n",
       "    .dataframe thead th {\n",
       "        text-align: right;\n",
       "    }\n",
       "</style>\n",
       "<table border=\"1\" class=\"dataframe\">\n",
       "  <thead>\n",
       "    <tr style=\"text-align: right;\">\n",
       "      <th></th>\n",
       "      <th>Name</th>\n",
       "      <th>age</th>\n",
       "      <th>Qualification</th>\n",
       "      <th>city</th>\n",
       "    </tr>\n",
       "  </thead>\n",
       "  <tbody>\n",
       "    <tr>\n",
       "      <th>0</th>\n",
       "      <td>nasheena</td>\n",
       "      <td>16</td>\n",
       "      <td>Degree</td>\n",
       "      <td>New York</td>\n",
       "    </tr>\n",
       "    <tr>\n",
       "      <th>1</th>\n",
       "      <td>Prasanna</td>\n",
       "      <td>26</td>\n",
       "      <td>Btch</td>\n",
       "      <td>San Francisco</td>\n",
       "    </tr>\n",
       "    <tr>\n",
       "      <th>2</th>\n",
       "      <td>Santhosh</td>\n",
       "      <td>19</td>\n",
       "      <td>Inter</td>\n",
       "      <td>Los Angeles</td>\n",
       "    </tr>\n",
       "    <tr>\n",
       "      <th>3</th>\n",
       "      <td>Parvin</td>\n",
       "      <td>27</td>\n",
       "      <td>10th</td>\n",
       "      <td>india</td>\n",
       "    </tr>\n",
       "  </tbody>\n",
       "</table>\n",
       "</div>"
      ],
      "text/plain": [
       "       Name  age Qualification           city\n",
       "0  nasheena   16        Degree       New York\n",
       "1  Prasanna   26          Btch  San Francisco\n",
       "2  Santhosh   19         Inter    Los Angeles\n",
       "3    Parvin   27          10th          india"
      ]
     },
     "execution_count": 20,
     "metadata": {},
     "output_type": "execute_result"
    }
   ],
   "source": [
    "df"
   ]
  },
  {
   "cell_type": "code",
   "execution_count": 21,
   "id": "d1604b70-40e4-4db4-8b71-c8fb0e20adb2",
   "metadata": {},
   "outputs": [
    {
     "name": "stdout",
     "output_type": "stream",
     "text": [
      "  full_name  years_old Qualification        City_v1\n",
      "0  nasheena         16        Degree       New York\n",
      "1  Prasanna         26          Btch  San Francisco\n",
      "2  Santhosh         19         Inter    Los Angeles\n",
      "3    Parvin         27          10th          india\n"
     ]
    }
   ],
   "source": [
    "# Rename the columns\n",
    "df.rename(columns={\"Name\": \"full_name\", \"age\": \"years_old\",\"city\": \"City_v1\"}, inplace=True)\n",
    "\n",
    "print(df)\n"
   ]
  },
  {
   "cell_type": "code",
   "execution_count": 22,
   "id": "edfa4339-8a66-4809-aa7c-ff1613976367",
   "metadata": {},
   "outputs": [
    {
     "name": "stdout",
     "output_type": "stream",
     "text": [
      "  full_name  years_old Qualification        City_v1\n",
      "0  nasheena         33        Degree       New York\n",
      "1  Prasanna         26          Btch  San Francisco\n",
      "2  Santhosh         19         Inter    Los Angeles\n",
      "3    Parvin         27          10th          india\n"
     ]
    }
   ],
   "source": [
    "# Update 'age' where 'name' is 'Bob' and set it to 33\n",
    "df.loc[df[\"full_name\"] == \"nasheena\", \"years_old\"] = 33\n",
    "\n",
    "print(df)\n",
    "\n"
   ]
  },
  {
   "cell_type": "code",
   "execution_count": 23,
   "id": "e5cbbc06-5a29-42d6-9c24-07bfee83a4a5",
   "metadata": {},
   "outputs": [
    {
     "name": "stdout",
     "output_type": "stream",
     "text": [
      "  full_name  years_old Qualification      City_v1\n",
      "0  nasheena         33        Degree     New York\n",
      "1  Prasanna         26          Btch           SF\n",
      "2  Santhosh         19         Inter  Los Angeles\n",
      "3    Parvin         27          10th        india\n"
     ]
    }
   ],
   "source": [
    "df.replace({\"City_v1\": {\"San Francisco\": \"SF\"}}, inplace=True)\n",
    "\n",
    "print(df)\n"
   ]
  },
  {
   "cell_type": "code",
   "execution_count": 24,
   "id": "253c3d17-a219-4c25-9353-27586595d4d6",
   "metadata": {},
   "outputs": [
    {
     "name": "stdout",
     "output_type": "stream",
     "text": [
      "           years_old Qualification      City_v1\n",
      "full_name                                      \n",
      "nasheena          33        Degree     New York\n",
      "Prasanna          26          Btch           SF\n",
      "Santhosh          19         Inter  Los Angeles\n",
      "Parvin            27          10th        india\n"
     ]
    }
   ],
   "source": [
    "# Set 'full_name' as the index\n",
    "df.set_index(\"full_name\", inplace=True)\n",
    "\n",
    "print(df)\n"
   ]
  },
  {
   "cell_type": "code",
   "execution_count": 25,
   "id": "81be5372-b8f8-4164-b20a-d607bb48f966",
   "metadata": {},
   "outputs": [
    {
     "data": {
      "text/html": [
       "<div>\n",
       "<style scoped>\n",
       "    .dataframe tbody tr th:only-of-type {\n",
       "        vertical-align: middle;\n",
       "    }\n",
       "\n",
       "    .dataframe tbody tr th {\n",
       "        vertical-align: top;\n",
       "    }\n",
       "\n",
       "    .dataframe thead th {\n",
       "        text-align: right;\n",
       "    }\n",
       "</style>\n",
       "<table border=\"1\" class=\"dataframe\">\n",
       "  <thead>\n",
       "    <tr style=\"text-align: right;\">\n",
       "      <th></th>\n",
       "      <th>years_old</th>\n",
       "      <th>Qualification</th>\n",
       "      <th>City_v1</th>\n",
       "    </tr>\n",
       "    <tr>\n",
       "      <th>full_name</th>\n",
       "      <th></th>\n",
       "      <th></th>\n",
       "      <th></th>\n",
       "    </tr>\n",
       "  </thead>\n",
       "  <tbody>\n",
       "    <tr>\n",
       "      <th>nasheena</th>\n",
       "      <td>33</td>\n",
       "      <td>Degree</td>\n",
       "      <td>New York</td>\n",
       "    </tr>\n",
       "    <tr>\n",
       "      <th>Prasanna</th>\n",
       "      <td>26</td>\n",
       "      <td>Btch</td>\n",
       "      <td>SF</td>\n",
       "    </tr>\n",
       "    <tr>\n",
       "      <th>Santhosh</th>\n",
       "      <td>19</td>\n",
       "      <td>Inter</td>\n",
       "      <td>Los Angeles</td>\n",
       "    </tr>\n",
       "    <tr>\n",
       "      <th>Parvin</th>\n",
       "      <td>27</td>\n",
       "      <td>10th</td>\n",
       "      <td>india</td>\n",
       "    </tr>\n",
       "  </tbody>\n",
       "</table>\n",
       "</div>"
      ],
      "text/plain": [
       "           years_old Qualification      City_v1\n",
       "full_name                                      \n",
       "nasheena          33        Degree     New York\n",
       "Prasanna          26          Btch           SF\n",
       "Santhosh          19         Inter  Los Angeles\n",
       "Parvin            27          10th        india"
      ]
     },
     "execution_count": 25,
     "metadata": {},
     "output_type": "execute_result"
    }
   ],
   "source": [
    "df\n"
   ]
  },
  {
   "cell_type": "code",
   "execution_count": 26,
   "id": "f00b5e2a-a6f6-4ca3-a9e8-4df75c80d234",
   "metadata": {},
   "outputs": [],
   "source": [
    "del df[\"City_v1\"]"
   ]
  },
  {
   "cell_type": "code",
   "execution_count": 27,
   "id": "eeb1a2fd-b9a6-44fe-9cbf-5d2f02dab665",
   "metadata": {},
   "outputs": [
    {
     "data": {
      "text/html": [
       "<div>\n",
       "<style scoped>\n",
       "    .dataframe tbody tr th:only-of-type {\n",
       "        vertical-align: middle;\n",
       "    }\n",
       "\n",
       "    .dataframe tbody tr th {\n",
       "        vertical-align: top;\n",
       "    }\n",
       "\n",
       "    .dataframe thead th {\n",
       "        text-align: right;\n",
       "    }\n",
       "</style>\n",
       "<table border=\"1\" class=\"dataframe\">\n",
       "  <thead>\n",
       "    <tr style=\"text-align: right;\">\n",
       "      <th></th>\n",
       "      <th>years_old</th>\n",
       "      <th>Qualification</th>\n",
       "    </tr>\n",
       "    <tr>\n",
       "      <th>full_name</th>\n",
       "      <th></th>\n",
       "      <th></th>\n",
       "    </tr>\n",
       "  </thead>\n",
       "  <tbody>\n",
       "    <tr>\n",
       "      <th>nasheena</th>\n",
       "      <td>33</td>\n",
       "      <td>Degree</td>\n",
       "    </tr>\n",
       "    <tr>\n",
       "      <th>Prasanna</th>\n",
       "      <td>26</td>\n",
       "      <td>Btch</td>\n",
       "    </tr>\n",
       "    <tr>\n",
       "      <th>Santhosh</th>\n",
       "      <td>19</td>\n",
       "      <td>Inter</td>\n",
       "    </tr>\n",
       "    <tr>\n",
       "      <th>Parvin</th>\n",
       "      <td>27</td>\n",
       "      <td>10th</td>\n",
       "    </tr>\n",
       "  </tbody>\n",
       "</table>\n",
       "</div>"
      ],
      "text/plain": [
       "           years_old Qualification\n",
       "full_name                         \n",
       "nasheena          33        Degree\n",
       "Prasanna          26          Btch\n",
       "Santhosh          19         Inter\n",
       "Parvin            27          10th"
      ]
     },
     "execution_count": 27,
     "metadata": {},
     "output_type": "execute_result"
    }
   ],
   "source": [
    "df"
   ]
  },
  {
   "cell_type": "code",
   "execution_count": 28,
   "id": "5dc811f4-7c4b-4c93-9e84-0f927897e263",
   "metadata": {},
   "outputs": [
    {
     "data": {
      "text/plain": [
       "full_name\n",
       "nasheena    Degree\n",
       "Prasanna      Btch\n",
       "Santhosh     Inter\n",
       "Parvin        10th\n",
       "Name: Qualification, dtype: object"
      ]
     },
     "execution_count": 28,
     "metadata": {},
     "output_type": "execute_result"
    }
   ],
   "source": [
    "df.pop(\"Qualification\")"
   ]
  },
  {
   "cell_type": "code",
   "execution_count": 37,
   "id": "315fb0bd-951b-44d8-b1ee-68f897c94801",
   "metadata": {},
   "outputs": [
    {
     "name": "stdout",
     "output_type": "stream",
     "text": [
      "{'years_old': full_name\n",
      "nasheena    33\n",
      "Prasanna    26\n",
      "Santhosh    19\n",
      "Parvin      27\n",
      "Name: years_old, dtype: int64}\n"
     ]
    }
   ],
   "source": [
    "# Remove the \"age\" key using dictionary comprehension\n",
    "df = {key: value for key, value in df.items() if key != \"full_name\"}\n",
    "\n",
    "print(df)\n",
    "# Output: {'name': 'David', 'city': 'Tokyo'}\n"
   ]
  },
  {
   "cell_type": "code",
   "execution_count": null,
   "id": "80ae1848-cf0e-456e-ac43-ea6cf1905791",
   "metadata": {},
   "outputs": [],
   "source": []
  },
  {
   "cell_type": "code",
   "execution_count": null,
   "id": "551b58c5-1e25-4574-82ae-407b93d218ff",
   "metadata": {},
   "outputs": [],
   "source": []
  },
  {
   "cell_type": "code",
   "execution_count": null,
   "id": "d8654b52-284d-4423-bd75-0d7087d3e310",
   "metadata": {},
   "outputs": [],
   "source": []
  },
  {
   "cell_type": "code",
   "execution_count": 39,
   "id": "cb88a626-8683-4c55-8bc2-75acb08df69d",
   "metadata": {},
   "outputs": [],
   "source": [
    "# dictonary:--\n",
    "# 1.append data frames and (append dictonary using two methods)\n",
    "# 2.update\n",
    "# 3.update with condition\n",
    "# 4.reanme\n",
    "# 5.add column\n",
    "# 6.set index\n",
    "# 7.replace\n",
    "# 8.Increase the --'age' by 1 using apply\n",
    "# 9.delete\n"
   ]
  },
  {
   "cell_type": "code",
   "execution_count": null,
   "id": "be4927ae-c2ab-4675-a718-3a27c8ca0375",
   "metadata": {},
   "outputs": [],
   "source": []
  },
  {
   "cell_type": "code",
   "execution_count": null,
   "id": "14e4a9d5-10aa-4f09-9718-eea4b80b78dd",
   "metadata": {},
   "outputs": [],
   "source": []
  },
  {
   "cell_type": "code",
   "execution_count": null,
   "id": "2b10e29a-461e-4940-85e6-1fa91ef3658a",
   "metadata": {},
   "outputs": [],
   "source": []
  },
  {
   "cell_type": "code",
   "execution_count": null,
   "id": "9fd7705e-1610-40c8-96d9-df112f9beb63",
   "metadata": {},
   "outputs": [],
   "source": []
  },
  {
   "cell_type": "code",
   "execution_count": null,
   "id": "8f5938dc-f147-4aec-b385-da0098e6f4eb",
   "metadata": {},
   "outputs": [],
   "source": []
  },
  {
   "cell_type": "code",
   "execution_count": null,
   "id": "578f022f-9322-4de2-8595-842d3c935a1c",
   "metadata": {},
   "outputs": [],
   "source": []
  },
  {
   "cell_type": "code",
   "execution_count": null,
   "id": "21371e94-edd0-4f91-b3e5-396481f71a28",
   "metadata": {},
   "outputs": [],
   "source": []
  }
 ],
 "metadata": {
  "kernelspec": {
   "display_name": "Python 3 (ipykernel)",
   "language": "python",
   "name": "python3"
  },
  "language_info": {
   "codemirror_mode": {
    "name": "ipython",
    "version": 3
   },
   "file_extension": ".py",
   "mimetype": "text/x-python",
   "name": "python",
   "nbconvert_exporter": "python",
   "pygments_lexer": "ipython3",
   "version": "3.12.4"
  }
 },
 "nbformat": 4,
 "nbformat_minor": 5
}
